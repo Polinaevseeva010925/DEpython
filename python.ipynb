{
 "cells": [
  {
   "cell_type": "code",
   "execution_count": null,
   "id": "cec3c94d",
   "metadata": {},
   "outputs": [
    {
     "name": "stdout",
     "output_type": "stream",
     "text": [
      "1840e0b9d4 'Продукты'\n",
      "4e4f90fcfb 'Электроника'\n",
      "afea8d72fc 'Электроника'\n",
      "373a6055fe 'Бытовая техника'\n",
      "9b2ab046f3 'Электроника'\n",
      "9f39d307c3 'Электроника'\n",
      "44edeffc91 'Продукты'\n",
      "704474fa2d 'Продукты'\n",
      "1de31be403 'Бытовая техника'\n",
      "b71f36a5e4 'Продукты'\n"
     ]
    }
   ],
   "source": [
    "import json\n",
    "purchases = {}\n",
    "\n",
    "with open('purchase_log.txt', 'r', encoding='utf-8') as file:\n",
    "    next(file)  \n",
    "    for line in file:\n",
    "        data = json.loads(line.strip())  \n",
    "        user_id = data['user_id']\n",
    "        category = data['category']\n",
    "        purchases[user_id] = category\n",
    "\n",
    "count = 0\n",
    "for user_id, category in purchases.items():\n",
    "    print(f\"{user_id} '{category}'\")\n",
    "    count += 1\n",
    "    if count == 10:\n",
    "        break"
   ]
  }
 ],
 "metadata": {
  "kernelspec": {
   "display_name": ".venv",
   "language": "python",
   "name": "python3"
  },
  "language_info": {
   "codemirror_mode": {
    "name": "ipython",
    "version": 3
   },
   "file_extension": ".py",
   "mimetype": "text/x-python",
   "name": "python",
   "nbconvert_exporter": "python",
   "pygments_lexer": "ipython3",
   "version": "3.8.2"
  }
 },
 "nbformat": 4,
 "nbformat_minor": 5
}
